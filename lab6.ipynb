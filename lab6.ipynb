{
  "nbformat": 4,
  "nbformat_minor": 0,
  "metadata": {
    "colab": {
      "provenance": []
    },
    "kernelspec": {
      "name": "python3",
      "display_name": "Python 3"
    },
    "language_info": {
      "name": "python"
    }
  },
  "cells": [
    {
      "cell_type": "markdown",
      "source": [
        "## Hanoi\n"
      ],
      "metadata": {
        "id": "Ez2Z00-FPpOl"
      }
    },
    {
      "cell_type": "code",
      "source": [
        "def hanoi(n, a, b, c):\n",
        "    # base case\n",
        "    if n == 1:\n",
        "        print('move from ', a, 'to', b)\n",
        "    #inductive case\n",
        "    else:\n",
        "        hanoi(n-1, a, c, b)\n",
        "        print('move from ', a, 'to', b)\n",
        "        hanoi(n-1,c,b,a)\n",
        "\n",
        "\n",
        "print(hanoi(3,'a','b','c'))"
      ],
      "metadata": {
        "id": "xAHZhvwvPot-"
      },
      "execution_count": null,
      "outputs": []
    },
    {
      "cell_type": "markdown",
      "source": [
        "## Other hanoi implementations\n",
        "\n",
        "\n",
        "\n"
      ],
      "metadata": {
        "id": "4GLfbR4dP4Fl"
      }
    },
    {
      "cell_type": "code",
      "source": [
        "# iterative approach\n",
        "def printTowers(size, a,b,c):\n",
        "    tallestTower,tower = size, ''\n",
        "    for i in range(0,tallestTower):\n",
        "        try:\n",
        "            aVisual = a[tallestTower-i-1]\n",
        "        except:\n",
        "            aVisual = '|'\n",
        "        try:\n",
        "            bVisual = b[tallestTower-i-1]\n",
        "        except:\n",
        "            bVisual = '|'\n",
        "        try:\n",
        "            cVisual = c[tallestTower-i-1]\n",
        "        except:\n",
        "            cVisual = '|'\n",
        "        tower += (str(aVisual) + \" \" + str(bVisual) + \" \" + str(cVisual) + \"\\n\")\n",
        "    return (tower+ '-----' + '\\n')\n",
        "\n",
        "def moveTwoTowers(first,second):\n",
        "    edgeCases = min(len(first), len(second))\n",
        "    if edgeCases == 0:\n",
        "        if len(first) == 0:\n",
        "            moving = second.pop(-1)\n",
        "            first.append(moving)\n",
        "        else:\n",
        "            moving = first.pop(-1)\n",
        "            second.append(moving)\n",
        "    else:\n",
        "        topFirst, topSecond = first[-1], second[-1]\n",
        "        if topFirst > topSecond:\n",
        "            movingValue = second.pop(-1)\n",
        "            first.append(movingValue)\n",
        "        else:\n",
        "            movingValue = first.pop(-1)\n",
        "            second.append(movingValue)\n",
        "    return first,second\n",
        "\n",
        "\n",
        "def towerSolver(size):\n",
        "    listA, listB, listC = list(range(size,0,-1)), [], []\n",
        "    move = 0\n",
        "    print(printTowers(size, listA,listB,listC), end ='')\n",
        "    print(\"Starting Position\"+ '\\n\\n\\n')\n",
        "    while(len(listC)<size):\n",
        "\n",
        "        if size % 2 == 0:\n",
        "\n",
        "            moveTwoTowers(listA,listB)\n",
        "            move+=1\n",
        "            print(printTowers(size, listA,listB,listC), end ='')\n",
        "            print(\"AB Move number: \" + str(move)+ '\\n\\n')\n",
        "\n",
        "            moveTwoTowers(listA,listC)\n",
        "            move+=1\n",
        "            print(printTowers(size,listA,listB,listC), end ='')\n",
        "            print(\"AC Move number: \" + str(move)+ '\\n\\n')\n",
        "            if len(listC) == size: break\n",
        "\n",
        "        else:\n",
        "\n",
        "            moveTwoTowers(listA,listC)\n",
        "            move+=1\n",
        "            print(printTowers(size, listA,listB,listC), end ='')\n",
        "            print(\"AC Move number: \" + str(move)+ '\\n\\n')\n",
        "            if len(listC) == size: break\n",
        "\n",
        "            moveTwoTowers(listA,listB)\n",
        "            move+=1\n",
        "            print(printTowers(size, listA,listB,listC), end ='')\n",
        "            print(\"AB Move number: \" + str(move)+ '\\n\\n')\n",
        "            if len(listC) == size: break\n",
        "\n",
        "\n",
        "        moveTwoTowers(listB,listC)\n",
        "        move+=1\n",
        "        print(printTowers(size, listA,listB,listC), end ='')\n",
        "        print(\"BC Move number: \" + str(move)+ '\\n\\n')\n",
        "    return\n",
        "\n",
        "#recursive approach\n",
        "\n",
        "def printPop(disks):\n",
        "    if disks == 0:\n",
        "        print(' | ', end= '')\n",
        "    else:\n",
        "        print(\" \" + str(disks) + \" \", end = '')\n",
        "\n",
        "def newPrintTowers(size, tower):\n",
        "    for i in range(size-1,-1,-1):\n",
        "        for k in tower.keys():\n",
        "            try:\n",
        "                printPop(str(tower[k][i]))\n",
        "            except:\n",
        "                printPop(0)\n",
        "        print()\n",
        "    print(\"---------\" + \"\\n\\n\")\n",
        "\n",
        "def recur(size,disk, tower, start, middle, stop):\n",
        "    if disk == 1:\n",
        "        moveTwoTowers(start,middle)\n",
        "        newPrintTowers(size,tower)\n",
        "        return\n",
        "    else:\n",
        "        recur(size,disk-1, tower, start, stop, middle)\n",
        "        moveTwoTowers(start, middle)\n",
        "        newPrintTowers(size,tower)\n",
        "        recur(size,disk-1, tower, stop, middle, start)\n",
        "        return\n",
        "\n",
        "def hanoi(numberDisks):\n",
        "    tower = {\"A\": [],\"B\": [], \"C\": []}\n",
        "    for i in range(numberDisks,0,-1):\n",
        "        tower[\"A\"].append(i)\n",
        "    newPrintTowers(3,tower)\n",
        "    recur(numberDisks,numberDisks, tower, tower[\"A\"], tower[\"B\"], tower[\"C\"])\n",
        "\n",
        "#hanoi(3)\n",
        "#towerSolver(3)\n"
      ],
      "metadata": {
        "id": "AfOkaIkzQX-g"
      },
      "execution_count": 5,
      "outputs": []
    },
    {
      "cell_type": "markdown",
      "source": [
        "##factorial\n"
      ],
      "metadata": {
        "id": "St0D-jJBPwlW"
      }
    },
    {
      "cell_type": "code",
      "source": [
        "def fact(n):\n",
        "  if n ==1:\n",
        "    return 1\n",
        "  else:\n",
        "    return fact(n-1)*n"
      ],
      "metadata": {
        "id": "lu4fej4oPzIA"
      },
      "execution_count": null,
      "outputs": []
    },
    {
      "cell_type": "markdown",
      "source": [
        "## Permutation\n"
      ],
      "metadata": {
        "id": "H3CPw45sQZa2"
      }
    },
    {
      "cell_type": "code",
      "source": [
        "def perm(word):\n",
        "  # base case, empty string\n",
        "  answer = []\n",
        "  if len(word) == 0\n",
        "    return ['']\n",
        "  # inductive case\n",
        "  for i in range(len(word)):\n",
        "    letter = word[i]\n",
        "    remaining = word[:i] + word[i+1:]\n",
        "    # every other character in the word\n",
        "    a = perm(remaining)\n",
        "    for w in a:\n",
        "        answer = answer + [ letter + w ]\n",
        "    return answer\n"
      ],
      "metadata": {
        "id": "_APcoOwhQksO"
      },
      "execution_count": null,
      "outputs": []
    },
    {
      "cell_type": "code",
      "source": [
        "assert sorted(perm(\"hat\")) == sorted(['hat', 'aht', 'ath', 'hta', 'tha', 'tah']), \"First assert fails.\"\n",
        "assert len(perm(\"race\")) == fact(len(\"race\")), \"Second assert fails.\"\n",
        "assert len(perm(\"whatever\")) == 40320, \"Third assert failed.\"\n",
        "print(\"All assertions passed without a problem\")"
      ],
      "metadata": {
        "id": "B2SeGUlZQbol",
        "colab": {
          "base_uri": "https://localhost:8080/"
        },
        "outputId": "b2ab3199-b040-48e6-a3a3-0a6221428907"
      },
      "execution_count": 6,
      "outputs": [
        {
          "output_type": "stream",
          "name": "stdout",
          "text": [
            "people\n",
            "o\n",
            "peple\n",
            "All assertions passed without a problem\n"
          ]
        }
      ]
    },
    {
      "cell_type": "markdown",
      "source": [
        "regex"
      ],
      "metadata": {
        "id": "8nFe7HmYQcpG"
      }
    },
    {
      "cell_type": "code",
      "source": [
        "import re\n",
        "\n",
        "#strings\n",
        "stringOfChars1 = ' strings 123423 dog 3045-0 '\n",
        "stringOfChars2 = \"23 45 89 10 391\"\n",
        "stringOfChars3 = \"123\"\n",
        "stringOfChars4 = \"12345 6789\"\n",
        "\n",
        "# Transformation 1\n",
        "# method 1: helper function 1\n",
        "def addParenthesis(match):\n",
        "    print(str(match.group(1))) # prints the match grouping as example1 parses it\n",
        "    paren = \"(\" + str(match.group(1)) + \")\"\n",
        "    return paren\n",
        "\n",
        "example1 = re.sub('(\\d)', addParenthesis, stringOfChars1)\n",
        "print(\"T1 helper:\",  example1)\n",
        "\n",
        "# regex method\n",
        "example1b = re.sub('(\\d)', '(\\\\1)', stringOfChars1)\n",
        "print(\"T1 regex: \", example1b)\n",
        "\n",
        "\n",
        "\n",
        "# Transformation 2\n",
        "# helper function method\n",
        "def flipPairs(match):\n",
        "    flip = str(match.group(2)) + str(match.group(1))\n",
        "    return flip\n",
        "\n",
        "example2a = re.sub('(\\d)(\\d)', flipPairs, stringOfChars2)\n",
        "print(\"T2 helper: \", example2a)\n",
        "\n",
        "# regex method\n",
        "example2b = re.sub('(\\d)(\\d)', r'\\2\\1', stringOfChars2)\n",
        "print(\"T2 regex: \", example2b)\n",
        "\n",
        "\n",
        "\n",
        "# Transformation 3: sum every pair of numbers\n",
        "# helper function method\n",
        "def sumPairs(match):\n",
        "    sum = (int(match.group(1)) + int(match.group(2)))\n",
        "    return str(sum)\n",
        "\n",
        "example3a = re.sub('(\\d)(\\d)', sumPairs, stringOfChars2)\n",
        "print(\"T3 helper: \", example3a)\n"
      ],
      "metadata": {
        "id": "Hho83RxRQeB-"
      },
      "execution_count": null,
      "outputs": []
    }
  ]
}