{
  "nbformat": 4,
  "nbformat_minor": 0,
  "metadata": {
    "colab": {
      "provenance": []
    },
    "kernelspec": {
      "name": "python3",
      "display_name": "Python 3"
    },
    "language_info": {
      "name": "python"
    }
  },
  "cells": [
    {
      "cell_type": "code",
      "source": [
        "# Question 1: Simplifying Boolean values for unknown variables\n",
        "def simplify_boolean(a, b):\n",
        "    \"\"\"\n",
        "    Simplifies a given Boolean expression for unknown variables.\n",
        "\n",
        "    Parameters:\n",
        "        expr (str): The Boolean expression to be simplified.\n",
        "\n",
        "    Returns:\n",
        "        str: The simplified Boolean expression.\n",
        "    \"\"\"\n",
        "    return not (a and b) == (not a) or (not b)\n",
        "\n",
        "\n",
        "print(simplify_boolean(0, 1))\n",
        "print(simplify_boolean(1, 1))\n",
        "print(simplify_boolean(1, 0))\n",
        "print(simplify_boolean(0, 0))\n"
      ],
      "metadata": {
        "id": "_aRH09jPKwVp",
        "colab": {
          "base_uri": "https://localhost:8080/"
        },
        "outputId": "56b63159-802b-44e6-a37d-e4e140a1bcbb"
      },
      "execution_count": null,
      "outputs": [
        {
          "output_type": "stream",
          "name": "stdout",
          "text": [
            "True\n",
            "True\n",
            "True\n",
            "True\n"
          ]
        }
      ]
    },
    {
      "cell_type": "code",
      "source": [
        "# Question 2: Simplifying different Booleans\n",
        "'''\n",
        "not ((not a) or (not b))\n",
        "not (not a and not b)\n",
        "a and b\n",
        "\n",
        "\n",
        "\n",
        "'''\n"
      ],
      "metadata": {
        "id": "klhD13mcKyuJ"
      },
      "execution_count": null,
      "outputs": []
    },
    {
      "cell_type": "code",
      "source": [
        "# Question 3: Letter Grade Conversion\n",
        "def convert_to_letter_grade(grade):\n",
        "    \"\"\"\n",
        "    Converts a numerical grade to a letter grade.\n",
        "\n",
        "    Parameters:\n",
        "        score (float): A number between 0 and 4 representing the grade.\n",
        "\n",
        "    Returns:\n",
        "        str: The corresponding letter grade.\n",
        "    \"\"\"\n",
        "    if grade > 4:\n",
        "      return \"number is too big\"\n",
        "    elif grade > 3.85:\n",
        "      return \"A\"\n",
        "    elif grade > 3.5:\n",
        "      return \"A-\"\n",
        "    elif grade > 3.15:\n",
        "      return \"B+\"\n",
        "    elif grade > 2.85:\n",
        "      return \"B\"\n",
        "    elif grade > 2.5:\n",
        "      return \"B-\"\n",
        "    elif grade > 2.15:\n",
        "      return \"C+\"\n",
        "    elif grade > 1.85:\n",
        "      return \"C\"\n",
        "    elif grade > 1.5:\n",
        "      return \"C-\"\n",
        "    elif grade > 1.15:\n",
        "      return \"D+\"\n",
        "    elif grade > 0.85:\n",
        "      return \"D\"\n",
        "    elif grade > 0.5:\n",
        "      return \"D-\"\n",
        "    elif grade > 0:\n",
        "      return \"F\"\n",
        "    else:\n",
        "      return \"invalid grade\"\n",
        "convert_to_letter_grade(3.9)"
      ],
      "metadata": {
        "id": "vh--BtGDK1Up",
        "colab": {
          "base_uri": "https://localhost:8080/",
          "height": 35
        },
        "outputId": "86104ffa-49e3-4a9b-e8c5-9982da3d699c"
      },
      "execution_count": null,
      "outputs": [
        {
          "output_type": "execute_result",
          "data": {
            "text/plain": [
              "'A'"
            ],
            "application/vnd.google.colaboratory.intrinsic+json": {
              "type": "string"
            }
          },
          "metadata": {},
          "execution_count": 35
        }
      ]
    },
    {
      "cell_type": "code",
      "source": [
        "# Question 4: Leap Year in OOP\n",
        "class Leap:\n",
        "    def __init__(self, year):\n",
        "        \"\"\"\n",
        "        Initializes a LeapYear object with a given year.\n",
        "\n",
        "        Parameters:\n",
        "            year (int): The year to be checked.\n",
        "        \"\"\"\n",
        "        self.year = year\n",
        "\n",
        "    def is_leap_year(self):\n",
        "        \"\"\"\n",
        "        Checks if the year is a leap year or not.\n",
        "\n",
        "        Returns:\n",
        "            bool: True if the year is a leap year, False otherwise.\n",
        "        \"\"\"\n",
        "        if self.year > 1582 and self.year%4 == 0 and (self.year%400 == 0 or self.year%100 != 0):\n",
        "            return self.print_leap()\n",
        "        else:\n",
        "          self.print_leap(\"not\")\n",
        "    def print_leap(self, n= ' '):\n",
        "        print(str(self.year) + ' is'+ n + \"a leap year!\")\n",
        "\n",
        "y1 = Leap(1996)\n",
        "y1.print_leap()"
      ],
      "metadata": {
        "id": "bsGib8o5K3Vt",
        "colab": {
          "base_uri": "https://localhost:8080/"
        },
        "outputId": "5fd1eef2-29b1-4236-dfe4-af7e4ba28a39"
      },
      "execution_count": null,
      "outputs": [
        {
          "output_type": "stream",
          "name": "stdout",
          "text": [
            "1996 is  a leap year!\n"
          ]
        }
      ]
    },
    {
      "cell_type": "code",
      "source": [
        "import math\n",
        "\n",
        "\n",
        "# Question 5: Scalable Four\n",
        "def print_scalable_four(size):\n",
        "    \"\"\"\n",
        "    Prints a scalable number '4' based on the given size.\n",
        "\n",
        "    Parameters:\n",
        "        size (int): An even number that determines the size of the printed '4'.\n",
        "\n",
        "    Returns:\n",
        "        None: Prints the scalable '4' to the console.\n",
        "    \"\"\"\n",
        "    for row in range(size):\n",
        "      for col in range(size):\n",
        "        if row == size//2 or col == size//2 or (row <= size//2 and col == size - size//2- row):\n",
        "            #print((row, col), end= ' ')\n",
        "            print('*', end = ' ')\n",
        "        else:\n",
        "            print(' ', end = ' ')\n",
        "      print()\n",
        "\n",
        "print_scalable_four(10)"
      ],
      "metadata": {
        "id": "d_Jizfa8K4W2",
        "colab": {
          "base_uri": "https://localhost:8080/"
        },
        "outputId": "c8cfb9e8-c39b-4a84-a251-70b596c9ec10"
      },
      "execution_count": null,
      "outputs": [
        {
          "output_type": "stream",
          "name": "stdout",
          "text": [
            "          *         \n",
            "        * *         \n",
            "      *   *         \n",
            "    *     *         \n",
            "  *       *         \n",
            "* * * * * * * * * * \n",
            "          *         \n",
            "          *         \n",
            "          *         \n",
            "          *         \n"
          ]
        }
      ]
    },
    {
      "cell_type": "code",
      "source": [
        "import random\n",
        "# Question 6: Magic Square\n",
        "def generate_magic_square(n):\n",
        "    \"\"\"\n",
        "    Generates a magic square of size n x n.\n",
        "\n",
        "    Parameters:\n",
        "        n (int): An odd number that determines the size of the magic square.\n",
        "\n",
        "    Returns:\n",
        "        list[list[int]]: A 2D list representing the magic square.\n",
        "    \"\"\"\n",
        "    matrix = []\n",
        "    for i in range(n):\n",
        "      matrix.append([0]*n)\n",
        "    row = n-1\n",
        "    col = n//2\n",
        "    for k in range(1, n*n+1):\n",
        "        matrix[row][col] = k\n",
        "        prev_row = row\n",
        "        prev_col = col\n",
        "        row +=1\n",
        "        col += 1\n",
        "        if row == n:\n",
        "            row = 0\n",
        "        if col == n:\n",
        "            col = 0\n",
        "        if matrix[row][col] != 0:\n",
        "            row = prev_row\n",
        "            col = prev_col\n",
        "            row -= 1\n",
        "    #   i = random.randrange(n)\n",
        "    #   j = random.randrange(n)\n",
        "    #   m[i][j] = k\n",
        "    # return m\n",
        "    return matrix\n",
        "\n",
        "\n",
        "def show(m):\n",
        "  for i in range(len(m)):\n",
        "    for j in range(len(m)):\n",
        "      print((\"   \" + str(m[i][j]))[-3:],end=' ')\n",
        "    print()\n",
        "\n",
        "show(generate_magic_square(3))"
      ],
      "metadata": {
        "id": "eJecnPGQK87Z",
        "colab": {
          "base_uri": "https://localhost:8080/"
        },
        "outputId": "bea1ba6e-38e1-4b26-cb60-c99f0421d479"
      },
      "execution_count": null,
      "outputs": [
        {
          "output_type": "stream",
          "name": "stdout",
          "text": [
            "  4   9   2 \n",
            "  3   5   7 \n",
            "  8   1   6 \n"
          ]
        }
      ]
    },
    {
      "cell_type": "code",
      "source": [
        "import random\n",
        "# Question 9\n",
        "# For the same list a above write an assertion for random.shuffle(a)\n",
        "\n",
        "a = [1, 2, 3,4, 5, 6]\n",
        "c = [1]\n",
        "b = sorted(a)\n",
        "random.shuffle(a)\n",
        "assert(sorted(a) == sorted(b)), \"test 09 failed\""
      ],
      "metadata": {
        "id": "kJEDxMh7ReqO"
      },
      "execution_count": null,
      "outputs": []
    }
  ]
}